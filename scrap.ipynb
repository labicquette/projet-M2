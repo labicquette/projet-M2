{
 "cells": [
  {
   "cell_type": "code",
   "execution_count": null,
   "metadata": {},
   "outputs": [],
   "source": [
    "from convokit import Corpus, download\n",
    "\n",
    "corpus = Corpus(filename=download(\"supreme-corpus\"))"
   ]
  },
  {
   "cell_type": "code",
   "execution_count": null,
   "metadata": {},
   "outputs": [],
   "source": [
    "corpus.print_summary_stats()"
   ]
  },
  {
   "cell_type": "code",
   "execution_count": null,
   "metadata": {},
   "outputs": [],
   "source": [
    "corpus.get"
   ]
  },
  {
   "cell_type": "code",
   "execution_count": 14,
   "metadata": {},
   "outputs": [],
   "source": [
    "df = corpus.get_utterances_dataframe()"
   ]
  },
  {
   "cell_type": "code",
   "execution_count": null,
   "metadata": {},
   "outputs": [],
   "source": [
    "print(df.iloc[243])"
   ]
  },
  {
   "cell_type": "code",
   "execution_count": null,
   "metadata": {},
   "outputs": [],
   "source": [
    "print(df.loc[df[\"meta.case_id\"] == \"2004_03-750\"])"
   ]
  },
  {
   "cell_type": "code",
   "execution_count": 1,
   "metadata": {},
   "outputs": [],
   "source": [
    "    from datasets import load_dataset"
   ]
  },
  {
   "cell_type": "code",
   "execution_count": 2,
   "metadata": {},
   "outputs": [],
   "source": [
    "ds = load_dataset(\"./source/load_SCOTUS.py\",trust_remote_code=True)\n",
    "dstrain = ds[\"train\"]\n",
    "dsval = ds[\"validation\"]\n"
   ]
  },
  {
   "cell_type": "code",
   "execution_count": null,
   "metadata": {},
   "outputs": [],
   "source": [
    "print(len(dstrain)+ len(dsval))"
   ]
  },
  {
   "cell_type": "code",
   "execution_count": null,
   "metadata": {},
   "outputs": [],
   "source": [
    "link = ds[0][\"justia_link\"]\n",
    "print([ ex[\"justia_link\"] for ex in ds])\n",
    "print(link)"
   ]
  },
  {
   "cell_type": "code",
   "execution_count": 3,
   "metadata": {},
   "outputs": [],
   "source": [
    "url = \"https://supreme.justia.com/cases/federal/us/539/444/\"\n",
    "ds = ds[\"validation\"]"
   ]
  },
  {
   "cell_type": "code",
   "execution_count": null,
   "metadata": {},
   "outputs": [],
   "source": [
    "from selenium import webdriver\n",
    "from selenium.webdriver.common.by import By\n",
    "from selenium.webdriver.common.keys import Keys\n",
    "from selenium.webdriver.support.ui import WebDriverWait\n",
    "from selenium.webdriver.support import expected_conditions as EC\n",
    "import os\n",
    "from webdriver_manager.chrome import ChromeDriverManager\n",
    "from selenium.webdriver.chrome.options import Options\n",
    "import requests\n",
    "from selenium.webdriver.chrome.service import Service\n",
    "from source.utils import get_file\n",
    "from tqdm.notebook import tqdm  \n",
    "import json\n",
    "os.makedirs('/home/labicquette/M2/projet/data/audios', exist_ok=True)\n",
    "\n",
    "chrome_options = webdriver.ChromeOptions()\n",
    "chrome_options.add_experimental_option(\"prefs\", {\n",
    "    'download.default_directory': '/home/labicquette/M2/projet/data/audios',\n",
    "    'download.prompt_for_download': False,\n",
    "    'download.directory_upgrade': True,\n",
    "    'safebrowsing.enabled': True,\n",
    "    \"download.default_directory\": '/home/labicquette/M2/projet/data/audios',\n",
    "    \"savefile.default_directory\": '/home/labicquette/M2/projet/data/audios',\n",
    "\n",
    "})\n",
    "#chrome_options.add_argument(\"--headless=new\")\n",
    "\n",
    "driver = webdriver.Chrome(options=chrome_options)\n",
    "#print(driver.capabilities)\n",
    "\n",
    "articles = []\n",
    "for opi in tqdm(range(138,len(ds))):\n",
    "    opi = ds[opi]\n",
    "    url = opi[\"justia_link\"]\n",
    "    \n",
    "    print(url)\n",
    "    driver = webdriver.Chrome(options=chrome_options)\n",
    "    driver.get(url)\n",
    "\n",
    "\n",
    "    try : \n",
    "        #driver.find_element(By.PARTIAL_LINK_TEXT, 'www.oyez.org/')\n",
    "        #driver.find_element_by_xpath(\"//a[contains(@href, '/mathscinet/search/mscdoc.html')]\").text\n",
    "        #element = driver.find_element(by=By.XPATH, value=\"//a[contains(@href, 'www.oyez.org/')]\")\n",
    "        #element = WebDriverWait(driver, 3).until(\n",
    "        #    EC.element_to_be_clickable((By.XPATH, \"//a[contains(@href, 'www.oyez.org/')]\")))\n",
    "        #print(element)\n",
    "        element = WebDriverWait(driver, 10).until(\n",
    "        EC.visibility_of_all_elements_located((By.XPATH, \"//a[contains(@href, 'www.oyez.org/')]\")))\n",
    "    #)  \n",
    "        if type(element) == type([]):\n",
    "            element = element[0]\n",
    "\n",
    "        href = element.get_attribute(\"href\")\n",
    "        print(href)\n",
    "        driver.get(href)\n",
    "    except: \n",
    "        driver.quit()\n",
    "        continue\n",
    "    \"\"\"\n",
    "        try :\n",
    "            element = WebDriverWait(driver, 3).until(\n",
    "            EC.element_to_be_clickable((By.XPATH, \"//a[contains(@href, 'www.oyez.org/')]\"))\n",
    "        )\n",
    "            print(element)\n",
    "        except :\n",
    "            #print(element)\n",
    "            driver.quit()\n",
    "            continue\n",
    "\n",
    "    driver.implicitly_wait(2)\n",
    "    element.click()\n",
    "    driver.implicitly_wait(2)\n",
    "\n",
    "    \"\"\"\n",
    "\n",
    "\n",
    "    link = WebDriverWait(driver, 2).until(\n",
    "        EC.element_to_be_clickable((By.XPATH, \"//a[contains(@iframe-url, 'oral_argument_audio')]\"))\n",
    "    )\n",
    "    #link = driver.find_element(By.XPATH, \"//a[contains(@iframe-url, 'oral_argument_audio')]\")\n",
    "    link.click()\n",
    "\n",
    "    outHTML = link.get_attribute(\"outerHTML\")\n",
    "\n",
    "    #id_audio = outHTML.split(\"oral_argument_audio - \")[1].split('\"')[0]\n",
    "\n",
    "    #response = requests.get(\"https://api.oyez.org/case_media/oral_argument_audio/\"+id_audio+\"/download\")\n",
    "    \n",
    "    #file_Path = \"./data/audios/train/\"+get_file(opi, \"SCOTUS\")+\".mp3\"\n",
    "\n",
    "    #if response.status_code == 200:\n",
    "        #print(response)\n",
    "        #with open(file_Path, 'wb') as file:\n",
    "            #file.write(response.content)\n",
    "        #print('File downloaded successfully')\n",
    "    #else:\n",
    "        #print('Failed to download file')\n",
    "\n",
    "\n",
    "    driver.implicitly_wait(5)\n",
    "    #TODO PROBLEM OF TAG MISMATCH\n",
    "    #contents =driver.find_element(By.CLASS_NAME, \"transcript\")\n",
    "    \n",
    "    #elem = driver.find_element(By.CLASS_NAME, \"transcript\")\n",
    "    iframe = driver.find_element(By.TAG_NAME, \"iframe\")\n",
    "    driver.switch_to.frame(iframe)\n",
    "\n",
    "    all_elements = driver.find_elements(By.XPATH, \"//body//*\")\n",
    "    opi_dict = []\n",
    "    # Print tag names and any text (if available) for each element\n",
    "    for index, element in enumerate(all_elements):\n",
    "        try:\n",
    "            if element.get_attribute(\"class\") == \"transcript-turn ng-scope\" :\n",
    "                row = {\"start-times\":[],\n",
    "                       \"stop-times\":[],\n",
    "                       \"text\": [],\n",
    "                       \"person\":\"\"}\n",
    "                elems = element.find_elements(By.XPATH, \".//*\")\n",
    "                for e in elems:\n",
    "                    if e.tag_name == \"h4\" : \n",
    "                        row[\"person\"] = e.get_attribute(\"innerHTML\")\n",
    "                    if e.tag_name == \"p\":\n",
    "                        row[\"text\"] += [e.get_attribute(\"innerHTML\")]\n",
    "                        row[\"start-times\"] += [e.get_attribute(\"start-time\")] \n",
    "                        row[\"stop-times\"] += [e.get_attribute(\"stop-time\")] \n",
    "                #print(row)\n",
    "                opi_dict += [row]\n",
    "        except Exception as e:\n",
    "            print(f\" - Could not retrieve information for element {index + 1}: {e}\")\n",
    "\n",
    "\n",
    "\n",
    "    #elem = driver.find_elements(By.CLASS_NAME, \"transcript-section ng-scope\")\n",
    "    #print(elem)\n",
    "    #print(type(elem.get_attribute(\"innerHTML\")))\n",
    "\n",
    "    #print(len(article))\n",
    "    #print(article[0].get_attribute(\"transcript\"))\n",
    "    #transcript = article[0].get_attribute(\"outerHTML\")\n",
    "#/html/body/div[2]/div/div/article\n",
    "    #file_Path = \"./data/transtest/test.json\"\n",
    "    file_Path = \"./data/transcripts/train/\"+get_file(opi, \"SCOTUS\")+\".json\"\n",
    "    with open(file_Path, \"w\") as outfile: \n",
    "        json.dump({\"conversations\":opi_dict}, outfile)\n",
    "    \n",
    "\n",
    "    #driver.get(\"https://api.oyez.org/case_media/oral_argument_audio/\"+id_audio+\"/download\")\n",
    "\n",
    "    driver.quit()\n"
   ]
  },
  {
   "cell_type": "code",
   "execution_count": null,
   "metadata": {},
   "outputs": [],
   "source": [
    "print(outHTML.split(\"oral_argument_audio - \")[1].split('\"')[0])"
   ]
  },
  {
   "cell_type": "code",
   "execution_count": null,
   "metadata": {},
   "outputs": [],
   "source": [
    "print(article[0].get_attribute(\"innerHTML\"))"
   ]
  },
  {
   "cell_type": "code",
   "execution_count": null,
   "metadata": {},
   "outputs": [],
   "source": [
    "print(article[0].get_attribute(\"outerHTML\"))"
   ]
  },
  {
   "cell_type": "code",
   "execution_count": null,
   "metadata": {},
   "outputs": [],
   "source": [
    "#for a in articles:\n",
    "print(articles[0][0].get_attribute(\"outerHTML\"))"
   ]
  },
  {
   "cell_type": "code",
   "execution_count": null,
   "metadata": {},
   "outputs": [],
   "source": [
    "\"https://api.oyez.org/case_media/oral_argument_audio/23600/download\""
   ]
  }
 ],
 "metadata": {
  "kernelspec": {
   "display_name": "Python 3",
   "language": "python",
   "name": "python3"
  },
  "language_info": {
   "codemirror_mode": {
    "name": "ipython",
    "version": 3
   },
   "file_extension": ".py",
   "mimetype": "text/x-python",
   "name": "python",
   "nbconvert_exporter": "python",
   "pygments_lexer": "ipython3",
   "version": "3.10.12"
  }
 },
 "nbformat": 4,
 "nbformat_minor": 2
}
