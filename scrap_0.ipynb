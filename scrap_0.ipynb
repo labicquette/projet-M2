{
 "cells": [
  {
   "cell_type": "code",
   "execution_count": 1,
   "metadata": {},
   "outputs": [],
   "source": [
    "from datasets import load_dataset"
   ]
  },
  {
   "cell_type": "code",
   "execution_count": 2,
   "metadata": {},
   "outputs": [],
   "source": [
    "ds = load_dataset(\"./source/load_SCOTUS.py\",trust_remote_code=True)\n",
    "dstrain = ds[\"train\"]\n",
    "dsval = ds[\"validation\"]\n"
   ]
  },
  {
   "cell_type": "code",
   "execution_count": null,
   "metadata": {},
   "outputs": [],
   "source": [
    "print(len(dstrain)+ len(dsval))"
   ]
  },
  {
   "cell_type": "code",
   "execution_count": null,
   "metadata": {},
   "outputs": [],
   "source": [
    "link = ds[0][\"justia_link\"]\n",
    "print([ ex[\"justia_link\"] for ex in ds])\n",
    "print(link)"
   ]
  },
  {
   "cell_type": "code",
   "execution_count": 3,
   "metadata": {},
   "outputs": [],
   "source": [
    "url = \"https://supreme.justia.com/cases/federal/us/539/444/\"\n",
    "ds = ds[\"train\"]"
   ]
  },
  {
   "cell_type": "code",
   "execution_count": 4,
   "metadata": {},
   "outputs": [
    {
     "data": {
      "application/vnd.jupyter.widget-view+json": {
       "model_id": "c9c9c3694f234ba983c2c049d4f26e6d",
       "version_major": 2,
       "version_minor": 0
      },
      "text/plain": [
       "Map (num_proc=4):   0%|          | 0/2670 [00:00<?, ? examples/s]"
      ]
     },
     "metadata": {},
     "output_type": "display_data"
    },
    {
     "name": "stdout",
     "output_type": "stream",
     "text": [
      "Failed to download file\n"
     ]
    },
    {
     "data": {
      "text/plain": [
       "Dataset({\n",
       "    features: ['justia_link', 'docket_number', 'year_argued', 'court_name', 'majority_opinion_author', 'raw_source', 'opinion_texts_source', 'raw_target', 'case_name', 'description', 'first_party_label', 'second_party_label', 'decisions', 'written_opinion', 'examples', 'labels'],\n",
       "    num_rows: 2670\n",
       "})"
      ]
     },
     "execution_count": 4,
     "metadata": {},
     "output_type": "execute_result"
    }
   ],
   "source": [
    "from selenium import webdriver\n",
    "from selenium.webdriver.common.by import By\n",
    "from selenium.webdriver.common.keys import Keys\n",
    "from selenium.webdriver.support.ui import WebDriverWait\n",
    "from selenium.webdriver.support import expected_conditions as EC\n",
    "import os\n",
    "from webdriver_manager.chrome import ChromeDriverManager\n",
    "from selenium.webdriver.chrome.options import Options\n",
    "import requests\n",
    "from selenium.webdriver.chrome.service import Service\n",
    "from source.utils import get_file\n",
    "from tqdm.notebook import tqdm\n",
    "import json\n",
    "os.makedirs('/home/labicquette/M2/projet/data/audios', exist_ok=True)\n",
    "\n",
    "chrome_options = webdriver.ChromeOptions()\n",
    "chrome_options.add_experimental_option(\"prefs\", {\n",
    "    'download.default_directory': '/home/labicquette/M2/projet/data/audios',\n",
    "    'download.prompt_for_download': False,\n",
    "    'download.directory_upgrade': True,\n",
    "    'safebrowsing.enabled': True,\n",
    "    \"download.default_directory\": '/home/labicquette/M2/projet/data/audios',\n",
    "    \"savefile.default_directory\": '/home/labicquette/M2/projet/data/audios',\n",
    "\n",
    "})\n",
    "chrome_options.add_argument(\"--headless=new\")\n",
    "\n",
    "\n",
    "#print(driver.capabilities)\n",
    "\n",
    "articles = []\n",
    "#for opi in tqdm(range(138,len(ds))):\n",
    "\n",
    "def scrap(opi):\n",
    "\n",
    "    if os.path.exists(\"./data/audios/train/\"+get_file(opi, \"SCOTUS\")+\".mp3\"):\n",
    "        return \n",
    "    driver = webdriver.Chrome(options=chrome_options)\n",
    "    #opi = ds[opi]\n",
    "    url = opi[\"justia_link\"]\n",
    "    #print(opi[\"docket_number\"])\n",
    "    #print(opi[\"year_argued\"])\n",
    "    #print(url)\n",
    "    \n",
    "    driver = webdriver.Chrome(options=chrome_options)\n",
    "    driver.get(\"https://www.oyez.org/cases/\"+opi[\"year_argued\"]+\"/\"+opi[\"docket_number\"])\n",
    "\n",
    "\n",
    "    try :\n",
    "        link = WebDriverWait(driver, 4).until(\n",
    "        EC.element_to_be_clickable((By.XPATH, \"//a[contains(@iframe-url, 'oral_argument_audio')]\"))\n",
    "        )\n",
    "    except:\n",
    "        driver.close()\n",
    "        driver.quit()\n",
    "        return\n",
    "       \n",
    "    link = driver.find_element(By.XPATH, \"//a[contains(@iframe-url, 'oral_argument_audio')]\")\n",
    "    link.click()\n",
    "\n",
    "    outHTML = link.get_attribute(\"outerHTML\")\n",
    "\n",
    "    id_audio = outHTML.split(\"oral_argument_audio - \")[1].split('\"')[0]\n",
    "\n",
    "    response = requests.get(\"https://api.oyez.org/case_media/oral_argument_audio/\"+id_audio+\"/download\")\n",
    "    \n",
    "    file_Path = \"./data/audios/train/\"+get_file(opi, \"SCOTUS\")+\".mp3\"\n",
    "\n",
    "    if response.status_code == 200:\n",
    "        #print(response)\n",
    "        with open(file_Path, 'wb') as file:\n",
    "            file.write(response.content)\n",
    "        #print('File downloaded successfully')\n",
    "    else:\n",
    "        print('Failed to download file')\n",
    "\n",
    "\n",
    "    #driver.implicitly_wait(5)\n",
    "    #TODO PROBLEM OF TAG MISMATCH\n",
    "    #contents =driver.find_element(By.CLASS_NAME, \"transcript\")\n",
    "    \n",
    "\n",
    "\n",
    "    #elem = driver.find_elements(By.CLASS_NAME, \"transcript-section ng-scope\")\n",
    "    #print(elem)\n",
    "    #print(type(elem.get_attribute(\"innerHTML\")))\n",
    "\n",
    "    #print(len(article))\n",
    "    #print(article[0].get_attribute(\"transcript\"))\n",
    "    #transcript = article[0].get_attribute(\"outerHTML\")\n",
    "#/html/body/div[2]/div/div/article\n",
    "    #file_Path = \"./data/transtest/test.json\"\n",
    "    #file_Path = \"./data/transcripts/train/\"+get_file(opi, \"SCOTUS\")+\".json\"\n",
    "    #with open(file_Path, \"w\") as outfile: \n",
    "    #    json.dump({\"conversations\":opi_dict}, outfile)\n",
    "    \n",
    "\n",
    "    #driver.get(\"https://api.oyez.org/case_media/oral_argument_audio/\"+id_audio+\"/download\")\n",
    "    driver.close()\n",
    "    driver.quit()\n",
    "\n",
    "ds.map(lambda example : scrap(example), num_proc=4)"
   ]
  },
  {
   "cell_type": "code",
   "execution_count": null,
   "metadata": {},
   "outputs": [],
   "source": [
    "print(outHTML.split(\"oral_argument_audio - \")[1].split('\"')[0])"
   ]
  },
  {
   "cell_type": "code",
   "execution_count": null,
   "metadata": {},
   "outputs": [],
   "source": [
    "print(article[0].get_attribute(\"innerHTML\"))"
   ]
  },
  {
   "cell_type": "code",
   "execution_count": null,
   "metadata": {},
   "outputs": [],
   "source": [
    "print(article[0].get_attribute(\"outerHTML\"))"
   ]
  },
  {
   "cell_type": "code",
   "execution_count": null,
   "metadata": {},
   "outputs": [],
   "source": [
    "#for a in articles:\n",
    "print(articles[0][0].get_attribute(\"outerHTML\"))"
   ]
  },
  {
   "cell_type": "code",
   "execution_count": null,
   "metadata": {},
   "outputs": [],
   "source": [
    "\"https://api.oyez.org/case_media/oral_argument_audio/23600/download\""
   ]
  }
 ],
 "metadata": {
  "kernelspec": {
   "display_name": "Python 3",
   "language": "python",
   "name": "python3"
  },
  "language_info": {
   "codemirror_mode": {
    "name": "ipython",
    "version": 3
   },
   "file_extension": ".py",
   "mimetype": "text/x-python",
   "name": "python",
   "nbconvert_exporter": "python",
   "pygments_lexer": "ipython3",
   "version": "3.10.12"
  }
 },
 "nbformat": 4,
 "nbformat_minor": 2
}
