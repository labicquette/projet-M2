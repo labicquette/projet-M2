{
 "cells": [
  {
   "cell_type": "code",
   "execution_count": 10,
   "metadata": {},
   "outputs": [],
   "source": [
    "from mutagen.mp3 import MP3\n",
    "\n",
    "def get_mp3_duration(file_path):\n",
    "    audio = MP3(file_path)\n",
    "    return audio.info.length"
   ]
  },
  {
   "cell_type": "code",
   "execution_count": 11,
   "metadata": {},
   "outputs": [],
   "source": [
    "from glob import glob"
   ]
  },
  {
   "cell_type": "code",
   "execution_count": 12,
   "metadata": {},
   "outputs": [],
   "source": [
    "paths = glob(\"./data/audios/validation/*.mp3\")"
   ]
  },
  {
   "cell_type": "code",
   "execution_count": 13,
   "metadata": {},
   "outputs": [
    {
     "name": "stdout",
     "output_type": "stream",
     "text": [
      "Duration: 323.87851053146255 hours\n"
     ]
    }
   ],
   "source": [
    "durations = 0\n",
    "for path in paths:\n",
    "    durations += get_mp3_duration(path)\n",
    "\n",
    "print(f\"Duration: {durations/3600} hours\")"
   ]
  },
  {
   "cell_type": "code",
   "execution_count": 14,
   "metadata": {},
   "outputs": [],
   "source": [
    "paths = glob(\"./data/audios/train/*.mp3\")"
   ]
  },
  {
   "cell_type": "code",
   "execution_count": 15,
   "metadata": {},
   "outputs": [
    {
     "name": "stdout",
     "output_type": "stream",
     "text": [
      "Duration: 2286.0804820578146 hours\n"
     ]
    }
   ],
   "source": [
    "durations = 0\n",
    "for path in paths:\n",
    "    durations += get_mp3_duration(path)\n",
    "\n",
    "print(f\"Duration: {durations/3600} hours\")"
   ]
  }
 ],
 "metadata": {
  "kernelspec": {
   "display_name": "Python 3",
   "language": "python",
   "name": "python3"
  },
  "language_info": {
   "codemirror_mode": {
    "name": "ipython",
    "version": 3
   },
   "file_extension": ".py",
   "mimetype": "text/x-python",
   "name": "python",
   "nbconvert_exporter": "python",
   "pygments_lexer": "ipython3",
   "version": "3.10.12"
  }
 },
 "nbformat": 4,
 "nbformat_minor": 2
}
